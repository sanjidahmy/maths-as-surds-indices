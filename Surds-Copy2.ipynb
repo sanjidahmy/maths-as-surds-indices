{
 "cells": [
  {
   "cell_type": "markdown",
   "metadata": {},
   "source": [
    "# **Surds**\n",
    "\n",
    "\n",
    "## What is $\\sqrt{2}$ as a decimal?\n"
   ]
  },
  {
   "cell_type": "code",
   "execution_count": 3,
   "metadata": {},
   "outputs": [
    {
     "data": {
      "text/plain": [
       "1.4142135623730951455"
      ]
     },
     "execution_count": 3,
     "metadata": {},
     "output_type": "execute_result"
    }
   ],
   "source": [
    "import numpy as np\n",
    "\n",
    "np.longdouble(np.sqrt(2))"
   ]
  },
  {
   "cell_type": "markdown",
   "metadata": {},
   "source": [
    "## What about $\\sqrt{18}$?"
   ]
  },
  {
   "cell_type": "code",
   "execution_count": 2,
   "metadata": {},
   "outputs": [
    {
     "data": {
      "text/plain": [
       "4.2426406871192847703"
      ]
     },
     "execution_count": 2,
     "metadata": {},
     "output_type": "execute_result"
    }
   ],
   "source": [
    "np.longdouble(np.sqrt(18))"
   ]
  },
  {
   "cell_type": "markdown",
   "metadata": {},
   "source": [
    "### What kind of number do you think $\\sqrt{18}$ is?"
   ]
  },
  {
   "cell_type": "markdown",
   "metadata": {},
   "source": [
    "### Can we write this in a more succinct way?\n"
   ]
  },
  {
   "cell_type": "markdown",
   "metadata": {},
   "source": [
    "### How can we write $\\sqrt{18}$ as a multiple of an irrational number?"
   ]
  },
  {
   "cell_type": "markdown",
   "metadata": {},
   "source": [
    "### What about adding $\\sqrt{12}$ to $\\sqrt{75}$?"
   ]
  },
  {
   "cell_type": "markdown",
   "metadata": {},
   "source": [
    "## Activity:\n",
    "\n",
    "[Nested surds](https://undergroundmathematics.org/thinking-about-algebra/nested-surds)\n",
    "\n",
    "[Fractions with surds](https://undergroundmathematics.org/thinking-about-numbers/absurd)\n",
    "\n",
    "[Can we show this surd is less than 6?](https://undergroundmathematics.org/thinking-about-algebra/r5701/solution)\n"
   ]
  },
  {
   "cell_type": "markdown",
   "metadata": {},
   "source": [
    "## Fractions involving surds\n",
    "\n",
    "Suppose I have a fraction that has an irrational denominator, how can I make it into a fraction that has a rational denominator ?"
   ]
  },
  {
   "cell_type": "markdown",
   "metadata": {},
   "source": [
    "**Example:** Rationalise the denominator of $$\\frac{1}{\\sqrt{3}-2}$$"
   ]
  },
  {
   "cell_type": "markdown",
   "metadata": {},
   "source": [
    "### Task :\n",
    "\n",
    "Can you simplify: $$\\frac{1}{\\sqrt{1}+\\sqrt{2}}+\\frac{1}{\\sqrt{2}+\\sqrt{3}}+ ... +\\frac{1}{\\sqrt{98}+\\sqrt{99}}+\\frac{1}{\\sqrt{99}+\\sqrt{100}}$$\n",
    "\n",
    "Can you find other similar sums with surds that add to give rational answers? Can you generalise your result?"
   ]
  },
  {
   "cell_type": "markdown",
   "metadata": {},
   "source": [
    "### Task:\n",
    "\n",
    "You have an A0 sheet of paper. Two sheets of A1 paper fit in an A0 sheet; two sheets of A2 paper fit in an A1, etc...\n"
   ]
  },
  {
   "cell_type": "markdown",
   "metadata": {
    "collapsed": true
   },
   "source": [
    "![Paper sizes](./Papersizes.jpg)"
   ]
  },
  {
   "cell_type": "markdown",
   "metadata": {},
   "source": [
    "1. Can you work out the ratio **short side:long side** of an $A0$ sheet? Hint: use your knowledge of an $A4$ sheet, or measure one! <p>\n",
    "\n",
    "2. If an $A0$ sheet has an area of $1$ ${m}/{s^{2}}$, can you find the length of the sides of an $A0$ sheet?<p>\n",
    "\n",
    "3. Can you find an expression for the area and sides of an $An$ sheet, for an integer value of $n$?<p>\n",
    "\n",
    "3. What about for $A(\\frac{1}{n})$?<p>"
   ]
  },
  {
   "cell_type": "markdown",
   "metadata": {},
   "source": [
    "## Task:\n",
    "\n",
    "The outer circle -call this circle $1$- below has a radius of $1$. Can you find an expression for the sides of square inside it? What about the circle  inside the square -  $2$? Suppose we keep drawing circles and squares inside each other; can you find an expression for the radius of the $n$th circle."
   ]
  },
  {
   "cell_type": "markdown",
   "metadata": {},
   "source": [
    "![Nested](./Nested circles and square.jpg)"
   ]
  }
 ],
 "metadata": {
  "kernelspec": {
   "display_name": "Python 3",
   "language": "python",
   "name": "python3"
  },
  "language_info": {
   "codemirror_mode": {
    "name": "ipython",
    "version": 3
   },
   "file_extension": ".py",
   "mimetype": "text/x-python",
   "name": "python",
   "nbconvert_exporter": "python",
   "pygments_lexer": "ipython3",
   "version": "3.5.2"
  }
 },
 "nbformat": 4,
 "nbformat_minor": 2
}
