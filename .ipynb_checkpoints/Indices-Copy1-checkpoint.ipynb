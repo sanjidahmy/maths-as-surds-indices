{
 "cells": [
  {
   "cell_type": "markdown",
   "metadata": {},
   "source": [
    "# Indices"
   ]
  },
  {
   "cell_type": "markdown",
   "metadata": {},
   "source": [
    "## Tasks:\n",
    "\n",
    "[Index issues](https://undergroundmathematics.org/thinking-about-algebra/index-issues) \n",
    "\n",
    "[Can we simplify these expressions involving indices?](https://undergroundmathematics.org/thinking-about-algebra/r8779)\n",
    "\n",
    "[When is this product of powers an integer?](https://undergroundmathematics.org/thinking-about-algebra/r6983)"
   ]
  },
  {
   "cell_type": "code",
   "execution_count": null,
   "metadata": {},
   "outputs": [],
   "source": []
  },
  {
   "cell_type": "markdown",
   "metadata": {},
   "source": [
    "# Extension tasks:"
   ]
  },
  {
   "cell_type": "markdown",
   "metadata": {},
   "source": [
    "## Part 1\n",
    "\n",
    "### Kimberly wants to define $3^{3^{3}}$ as $(3^{3})^{3}$ but Nermeen thinks that such a stack of powers should be defined as $3^{(3^{3})}$.\n",
    "### Do their definitions lead to the same numerical value? Is the same true if $3$ is replaced with some other number?\n",
    "### How would Kimberly's and Nermeen's definitions most naturally extend to the definition of $3^{3^{3^{3}}}$? Do their definitions lead to the same numerical value? Is the same true if $3$ is replaced with some other number?"
   ]
  },
  {
   "cell_type": "markdown",
   "metadata": {},
   "source": [
    "## Part 2\n",
    "\n",
    "### Climbing Powers\n",
    "\n",
    "#### We can define $2^{3^{4}}$ either as $(2^{3})^{4}$ or as $2^{(3^{4})}$ . Does it make any difference?\n",
    "\n",
    "#### Now calculate $\\Big(\\sqrt{2}^{\\sqrt{2}}\\Big)^{\\sqrt{2}}$ and $\\sqrt{2}^{\\big(\\sqrt{2}^{\\sqrt{2}}\\big)}$ and answer the following question for the natural extension of both definitions.\n",
    "\n",
    "#### Which number is the biggest\n",
    "$$\\sqrt{2}^{{\\sqrt{2}}^{{\\sqrt{2}}^{...}}}$$ \n",
    "#### where the powers of root 2 go on for ever, or $\\Big(\\sqrt{2}^{\\sqrt{2}}\\Big)^{\\sqrt{2}}$."
   ]
  },
  {
   "cell_type": "markdown",
   "metadata": {},
   "source": [
    "### Something to think about for later: \n",
    "#### How do I work out a power when the index is irrational? \n",
    "\n",
    "### This might be helpful:"
   ]
  }
 ],
 "metadata": {
  "kernelspec": {
   "display_name": "Python 3",
   "language": "python",
   "name": "python3"
  },
  "language_info": {
   "codemirror_mode": {
    "name": "ipython",
    "version": 3
   },
   "file_extension": ".py",
   "mimetype": "text/x-python",
   "name": "python",
   "nbconvert_exporter": "python",
   "pygments_lexer": "ipython3",
   "version": "3.5.2"
  }
 },
 "nbformat": 4,
 "nbformat_minor": 2
}
