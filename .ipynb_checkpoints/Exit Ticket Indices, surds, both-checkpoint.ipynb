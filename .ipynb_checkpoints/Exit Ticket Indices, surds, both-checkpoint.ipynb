{
 "cells": [
  {
   "cell_type": "markdown",
   "metadata": {
    "slideshow": {
     "slide_type": "slide"
    }
   },
   "source": [
    "# Exit Ticket: Indices\n",
    "\n",
    "## 1.Which of the expressions below is the odd one out?\n",
    "\n",
    "## $$\\frac{3x^{5}}{x^{-3}}, \\frac{3x^{-4}}{x^{-12}}, \\frac{x^{-6}\\times x^{-2}}{3^{-1}}, \\frac{(x^{\\frac{1}{2}})^{16}}{9^{\\frac{-1}{2}}}$$\n",
    "\n",
    "## 2.Simplify the following expression:\n",
    "\n",
    "## a) $243^{3/5}$\n",
    "## b) $16^{7/4}$\n",
    "\n",
    "## 3.Write $288$ as $2^{p}\\times 3^{q}$ where $p$ and $q$ are integers."
   ]
  },
  {
   "cell_type": "markdown",
   "metadata": {
    "slideshow": {
     "slide_type": "slide"
    }
   },
   "source": [
    "# Exit Ticket: Surds\n",
    "\n",
    "1.Rationalise the expression:\n",
    "\n",
    "a) $\\frac{3+5\\sqrt{3}}{7-\\sqrt{2}}$\n",
    "b) $\\frac{1-\\sqrt{7}}{2+\\sqrt{5}}$\n",
    "\n",
    "2.Write $360$ in the simplified form $a\\sqrt{b}$ where $a$ and $b$ are integers.<p>\n",
    "3.Write $(\\sqrt{2}-5\\sqrt{10})^{2}$ in the form $a+b\\sqrt{c}$ where $a$, $b$ and $c$ are integers."
   ]
  },
  {
   "cell_type": "markdown",
   "metadata": {
    "slideshow": {
     "slide_type": "slide"
    }
   },
   "source": [
    "# Exit Ticket: Indices and Surds"
   ]
  }
 ],
 "metadata": {
  "celltoolbar": "Slideshow",
  "kernelspec": {
   "display_name": "Python 3",
   "language": "python",
   "name": "python3"
  },
  "language_info": {
   "codemirror_mode": {
    "name": "ipython",
    "version": 3
   },
   "file_extension": ".py",
   "mimetype": "text/x-python",
   "name": "python",
   "nbconvert_exporter": "python",
   "pygments_lexer": "ipython3",
   "version": "3.5.2"
  }
 },
 "nbformat": 4,
 "nbformat_minor": 2
}
